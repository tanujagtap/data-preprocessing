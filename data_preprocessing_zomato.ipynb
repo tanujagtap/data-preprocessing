{
 "cells": [
  {
   "cell_type": "code",
   "execution_count": null,
   "id": "137f2fe6",
   "metadata": {},
   "outputs": [],
   "source": [
    "# Basic Data Preprocessing on Zomato Dataset using Python\n",
    "\n",
    "This notebook demonstrates how to perform basic data cleaning, handling missing values, \n",
    "label encoding, and train-test splitting on a restaurant dataset \n",
    "from Zomato using Python libraries like Pandas and scikit-learn."
   ]
  },
  {
   "cell_type": "code",
   "execution_count": 2,
   "id": "d71d68d5",
   "metadata": {},
   "outputs": [],
   "source": [
    "import numpy as np\n",
    "import pandas as pd\n",
    "import matplotlib.pyplot as plt"
   ]
  },
  {
   "cell_type": "code",
   "execution_count": 3,
   "id": "214eb2c0",
   "metadata": {},
   "outputs": [
    {
     "data": {
      "text/html": [
       "<div>\n",
       "<style scoped>\n",
       "    .dataframe tbody tr th:only-of-type {\n",
       "        vertical-align: middle;\n",
       "    }\n",
       "\n",
       "    .dataframe tbody tr th {\n",
       "        vertical-align: top;\n",
       "    }\n",
       "\n",
       "    .dataframe thead th {\n",
       "        text-align: right;\n",
       "    }\n",
       "</style>\n",
       "<table border=\"1\" class=\"dataframe\">\n",
       "  <thead>\n",
       "    <tr style=\"text-align: right;\">\n",
       "      <th></th>\n",
       "      <th>name</th>\n",
       "      <th>online_order</th>\n",
       "      <th>book_table</th>\n",
       "      <th>rate</th>\n",
       "      <th>votes</th>\n",
       "      <th>approx_cost(for two people)</th>\n",
       "      <th>listed_in(type)</th>\n",
       "    </tr>\n",
       "  </thead>\n",
       "  <tbody>\n",
       "    <tr>\n",
       "      <th>0</th>\n",
       "      <td>Jalsa</td>\n",
       "      <td>Yes</td>\n",
       "      <td>Yes</td>\n",
       "      <td>4.1/5</td>\n",
       "      <td>775.0</td>\n",
       "      <td>800.0</td>\n",
       "      <td>Buffet</td>\n",
       "    </tr>\n",
       "    <tr>\n",
       "      <th>1</th>\n",
       "      <td>Spice Elephant</td>\n",
       "      <td>Yes</td>\n",
       "      <td>No</td>\n",
       "      <td>4.1/5</td>\n",
       "      <td>787.0</td>\n",
       "      <td>800.0</td>\n",
       "      <td>Buffet</td>\n",
       "    </tr>\n",
       "    <tr>\n",
       "      <th>2</th>\n",
       "      <td>San Churro Cafe</td>\n",
       "      <td>Yes</td>\n",
       "      <td>No</td>\n",
       "      <td>3.8/5</td>\n",
       "      <td>918.0</td>\n",
       "      <td>NaN</td>\n",
       "      <td>Buffet</td>\n",
       "    </tr>\n",
       "    <tr>\n",
       "      <th>3</th>\n",
       "      <td>Addhuri Udupi Bhojana</td>\n",
       "      <td>No</td>\n",
       "      <td>No</td>\n",
       "      <td>3.7/5</td>\n",
       "      <td>88.0</td>\n",
       "      <td>300.0</td>\n",
       "      <td>Buffet</td>\n",
       "    </tr>\n",
       "    <tr>\n",
       "      <th>4</th>\n",
       "      <td>Grand Village</td>\n",
       "      <td>No</td>\n",
       "      <td>No</td>\n",
       "      <td>3.8/5</td>\n",
       "      <td>166.0</td>\n",
       "      <td>600.0</td>\n",
       "      <td>Buffet</td>\n",
       "    </tr>\n",
       "  </tbody>\n",
       "</table>\n",
       "</div>"
      ],
      "text/plain": [
       "                    name online_order book_table   rate  votes  \\\n",
       "0                  Jalsa          Yes        Yes  4.1/5  775.0   \n",
       "1         Spice Elephant          Yes         No  4.1/5  787.0   \n",
       "2        San Churro Cafe          Yes         No  3.8/5  918.0   \n",
       "3  Addhuri Udupi Bhojana           No         No  3.7/5   88.0   \n",
       "4          Grand Village           No         No  3.8/5  166.0   \n",
       "\n",
       "   approx_cost(for two people) listed_in(type)  \n",
       "0                        800.0          Buffet  \n",
       "1                        800.0          Buffet  \n",
       "2                          NaN          Buffet  \n",
       "3                        300.0          Buffet  \n",
       "4                        600.0          Buffet  "
      ]
     },
     "execution_count": 3,
     "metadata": {},
     "output_type": "execute_result"
    }
   ],
   "source": [
    "# Load the Zomato dataset\n",
    "dataset = pd.read_csv('/Users/tanujajagtap/Desktop/Projects/MLE/zomato.csv')\n",
    "\n",
    "# Preview the dataset\n",
    "dataset.head()"
   ]
  },
  {
   "cell_type": "code",
   "execution_count": 4,
   "id": "f1594f64",
   "metadata": {},
   "outputs": [],
   "source": [
    "# Selecting independent features and target variable\n",
    "X = dataset.iloc[:, :-1].values  # All columns except the last\n",
    "y = dataset.iloc[:, 3].values    # Assuming column 3 is the target"
   ]
  },
  {
   "cell_type": "code",
   "execution_count": 5,
   "id": "27648543",
   "metadata": {},
   "outputs": [],
   "source": [
    "from sklearn.impute import SimpleImputer\n",
    "\n",
    "# Handle missing values in numerical columns (e.g., cost, ratings)\n",
    "imputer = SimpleImputer(strategy='mean')\n",
    "imputer = imputer.fit(X[:, 4:6])  # Assuming columns 4 and 5 are numeric\n",
    "X[:, 4:6] = imputer.transform(X[:, 4:6])\n"
   ]
  },
  {
   "cell_type": "code",
   "execution_count": 6,
   "id": "9755f6b9",
   "metadata": {},
   "outputs": [],
   "source": [
    "from sklearn.preprocessing import LabelEncoder\n",
    "\n",
    "# Convert categorical text data to numeric\n",
    "labelencoder_X = LabelEncoder()\n",
    "X[:, 0] = labelencoder_X.fit_transform(X[:, 0])  # e.g., city names\n",
    "\n",
    "labelencoder_y = LabelEncoder()\n",
    "y = labelencoder_y.fit_transform(y)  # e.g., cuisine types or categories\n"
   ]
  },
  {
   "cell_type": "code",
   "execution_count": 7,
   "id": "1781f54d",
   "metadata": {},
   "outputs": [
    {
     "name": "stdout",
     "output_type": "stream",
     "text": [
      "X_train shape: (118, 6)\n",
      "X_test shape: (30, 6)\n",
      "y_train shape: (118,)\n",
      "y_test shape: (30,)\n"
     ]
    }
   ],
   "source": [
    "from sklearn.model_selection import train_test_split\n",
    "\n",
    "# Split the dataset into training and testing sets\n",
    "X_train, X_test, y_train, y_test = train_test_split(\n",
    "    X, y, test_size=0.2, random_state=0\n",
    ")\n",
    "\n",
    "# Check shapes\n",
    "print(\"X_train shape:\", X_train.shape)\n",
    "print(\"X_test shape:\", X_test.shape)\n",
    "print(\"y_train shape:\", y_train.shape)\n",
    "print(\"y_test shape:\", y_test.shape)\n"
   ]
  },
  {
   "cell_type": "code",
   "execution_count": null,
   "id": "4c6d3a01",
   "metadata": {},
   "outputs": [],
   "source": [
    "# Summary\n",
    "\n",
    "- Loaded and cleaned the Zomato dataset\n",
    "- Handled missing values in numeric features\n",
    "- Encoded categorical variables for model compatibility\n",
    "- Performed an 80-20 train-test split for further modeling\n",
    "\n",
    "This dataset is now ready for EDA or machine learning model training.\n"
   ]
  }
 ],
 "metadata": {
  "kernelspec": {
   "display_name": "Python 3 (ipykernel)",
   "language": "python",
   "name": "python3"
  },
  "language_info": {
   "codemirror_mode": {
    "name": "ipython",
    "version": 3
   },
   "file_extension": ".py",
   "mimetype": "text/x-python",
   "name": "python",
   "nbconvert_exporter": "python",
   "pygments_lexer": "ipython3",
   "version": "3.11.4"
  }
 },
 "nbformat": 4,
 "nbformat_minor": 5
}
